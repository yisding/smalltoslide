{
 "cells": [
  {
   "cell_type": "markdown",
   "id": "43bbbec3-6f30-42cd-9740-291d35b96636",
   "metadata": {},
   "source": [
    "# Small to Slide"
   ]
  },
  {
   "cell_type": "markdown",
   "id": "35f41468-79e1-44ff-8e7f-a22cf2e59398",
   "metadata": {},
   "source": [
    "It's very difficult for a LLM to correctly embed a PPT slide based on text alone. Luckily we have multi-modal LLMs!\n",
    "\n",
    "#### Goal\n",
    "Ingest PPT slides using GPT 4o's embedding + Create a scheme to retrieve relevant slides\n",
    "\n",
    "## Outline\n",
    "- Setup (API keys, Milvus connection, data loading)\n",
    "- Pre-processing (Embeddings, Schema creation)\n",
    "- Ingestion\n",
    "- Retrieval\n",
    "- Retrieval Evaluation"
   ]
  },
  {
   "cell_type": "markdown",
   "id": "ee56014c-fbe6-4ef6-a0b5-70d653d5fe95",
   "metadata": {},
   "source": [
    "### Setup"
   ]
  },
  {
   "cell_type": "code",
   "execution_count": 1,
   "id": "44da407b-6688-4f21-bb6e-2358cea53ce6",
   "metadata": {},
   "outputs": [],
   "source": [
    "import os\n",
    "import re\n",
    "import asyncio\n",
    "from typing import Iterator, Tuple\n",
    "from openai import AsyncOpenAI\n",
    "openai_api_key = os.environ.get(\"OPENAI_API_KEY\")\n",
    "zilliz_uri = os.environ.get(\"ZILLIZ_URI\")\n",
    "zilliz_api_key = os.environ.get(\"ZILLIZ_API_KEY\")"
   ]
  },
  {
   "cell_type": "markdown",
   "id": "684629e9-92ef-4665-a634-527e0cea42f4",
   "metadata": {},
   "source": [
    "### Pre-Processing"
   ]
  },
  {
   "cell_type": "code",
   "execution_count": 4,
   "id": "e72c1183-b7cb-4875-9a95-99e423ae2543",
   "metadata": {},
   "outputs": [],
   "source": [
    "# Load text data, put them into a list\n",
    "text_path = \"climate_youth_llamaparse.md\"#NVDA md file: './llamaparse.md'\n",
    "def markdown_to_string(file_path: str) -> str:\n",
    "    try:\n",
    "        with open(file_path, 'r') as file:\n",
    "            markdown_string = file.read()\n",
    "        return markdown_string\n",
    "    except FileNotFoundError:\n",
    "        print(f\"File not found: {file_path}\")\n",
    "        return None\n",
    "    except IOError:\n",
    "        print(f\"Error reading file: {file_path}\")\n",
    "        return None\n",
    "\n",
    "markdown_string = markdown_to_string(text_path)\n",
    "regex = r\"\\n---\\n\"#NVDA regex: r\"<!---\\s*Page\\s*\\d+\\s*--->\"\n",
    "parts = re.split(regex, markdown_string)\n",
    "\n",
    "# Do just 5 for checking whether this works\n",
    "# TODO: Delete or Comment this out if you don't want to embed too many things\n",
    "parts = parts#[:5]"
   ]
  },
  {
   "cell_type": "code",
   "execution_count": 5,
   "id": "22f544f9-2888-4f31-87f8-730d51abe2a4",
   "metadata": {},
   "outputs": [
    {
     "data": {
      "text/plain": [
       "32"
      ]
     },
     "execution_count": 5,
     "metadata": {},
     "output_type": "execute_result"
    }
   ],
   "source": [
    "len(parts)"
   ]
  },
  {
   "cell_type": "code",
   "execution_count": 6,
   "id": "4ba1b8a8-d81e-433e-a9e5-6534c23def64",
   "metadata": {},
   "outputs": [],
   "source": [
    "# Type alias for readability\n",
    "Embedding = list[float]\n",
    "\n",
    "# Get OpenAI client\n",
    "client = AsyncOpenAI(api_key=openai_api_key)\n",
    "async def get_embedding(input_text: str) -> Embedding:\n",
    "    response = await client.embeddings.create(\n",
    "        input=input_text,\n",
    "        model=\"text-embedding-3-small\"\n",
    "    )\n",
    "    return response.data[0].embedding"
   ]
  },
  {
   "cell_type": "code",
   "execution_count": 7,
   "id": "73ef0300-a61c-474f-8342-1b6362418cee",
   "metadata": {},
   "outputs": [],
   "source": [
    "# Run embedding concurrently.\n",
    "# WARNING: There are ~40 pages = ~40 concurrent calls\n",
    "tasks = [asyncio.create_task(get_embedding(page)) for page in parts]\n",
    "results: list[Embedding] = await asyncio.gather(*tasks)\n",
    "text_embedding_pairs: list[Tuple[str, Embedding]] = list(zip(parts, results))"
   ]
  },
  {
   "cell_type": "markdown",
   "id": "39a7a178-b7cf-4f47-a1b7-a9724a67485f",
   "metadata": {},
   "source": [
    "#### PDF to Images"
   ]
  },
  {
   "cell_type": "code",
   "execution_count": 6,
   "id": "69a1d48a-bdc3-4341-bf4d-82268fbbf65d",
   "metadata": {},
   "outputs": [
    {
     "name": "stdout",
     "output_type": "stream",
     "text": [
      "NVDA-Company-Overview.pdf llamaparse.md             \u001b[1m\u001b[36moutput_images\u001b[m\u001b[m\n",
      "README.md                 milvus-ingest.ipynb       \u001b[1m\u001b[36mve\u001b[m\u001b[m\n"
     ]
    }
   ],
   "source": [
    "!ls"
   ]
  },
  {
   "cell_type": "markdown",
   "id": "b75de5cf-e4a1-401b-aadb-9a8d42484ed3",
   "metadata": {},
   "source": [
    "**Warning:**\n",
    "\n",
    "Installing Poppler can be tedious. Make sure to\n",
    "- Install\n",
    "- Add `poppler` to PATH for your machine"
   ]
  },
  {
   "cell_type": "code",
   "execution_count": 5,
   "id": "b4adf0bf-d744-4092-9d72-639d18e68cc2",
   "metadata": {},
   "outputs": [
    {
     "name": "stderr",
     "output_type": "stream",
     "text": [
      "42it [00:03, 11.68it/s]\n"
     ]
    }
   ],
   "source": [
    "from pdf2image import convert_from_path\n",
    "import os\n",
    "from tqdm import tqdm\n",
    "\n",
    "\n",
    "# Specify the path to your PDF file\n",
    "pdf_path = \"NVDA-Company-Overview.pdf\"\n",
    "\n",
    "# Specify the output folder for images\n",
    "output_folder = \"output_images\"\n",
    "\n",
    "# Create the output folder if it doesn't exist\n",
    "if not os.path.exists(output_folder):\n",
    "    os.makedirs(output_folder)\n",
    "\n",
    "# Convert PDF to images\n",
    "images = convert_from_path(pdf_path)\n",
    "\n",
    "# Save each page as an image\n",
    "for i, image in tqdm(enumerate(images)):\n",
    "    image.save(f\"{output_folder}/page_{i+1}.jpg\", \"JPEG\")"
   ]
  },
  {
   "cell_type": "markdown",
   "id": "174f2804-2347-4012-b392-a77def022e8e",
   "metadata": {},
   "source": [
    "#### Image Embedding"
   ]
  },
  {
   "cell_type": "markdown",
   "id": "412d13f0-be40-46a4-be51-4a932b5b4bfd",
   "metadata": {},
   "source": [
    "We'll be embedding each powerpoint slide into image embeddings."
   ]
  },
  {
   "cell_type": "code",
   "execution_count": 10,
   "id": "b7175e16-f86b-4f42-9f71-36180c17a710",
   "metadata": {},
   "outputs": [
    {
     "name": "stderr",
     "output_type": "stream",
     "text": [
      "32it [00:00, 72393.60it/s]\n"
     ]
    }
   ],
   "source": [
    "import uuid\n",
    "from tqdm import tqdm\n",
    "\n",
    "ids = []\n",
    "doc_names = []\n",
    "page_nums = []\n",
    "content = []\n",
    "embeddings = []\n",
    "for idx, i in tqdm(enumerate(text_embedding_pairs)):\n",
    "    doc_string = f\"Climate Youth Magazine, page {idx + 1}\"#f\"NVDA demo PDF, page {idx+1}\"\n",
    "    ids.append(f\"{uuid.uuid5(uuid.NAMESPACE_DNS, doc_string)}\")\n",
    "    doc_names.append(\"Climate Youth Magazine PDF\")#doc_names.append(\"NVDA demo PDF\")\n",
    "    page_nums.append(idx)\n",
    "    content.append(i[0])\n",
    "    embeddings.append(i[1])\n",
    "data = [ids, doc_names, page_nums, content, embeddings]"
   ]
  },
  {
   "cell_type": "markdown",
   "id": "c3a60049-438f-47a6-86a2-0d39ee0db430",
   "metadata": {},
   "source": [
    "## Ingestion"
   ]
  },
  {
   "cell_type": "markdown",
   "id": "970a254e-66b2-48d2-b364-fccc3e99e87d",
   "metadata": {},
   "source": [
    "### Image referencing in Collection"
   ]
  },
  {
   "cell_type": "code",
   "execution_count": 13,
   "id": "b5966f3a-9743-445d-a89c-2caebb974634",
   "metadata": {},
   "outputs": [
    {
     "name": "stdout",
     "output_type": "stream",
     "text": [
      "Collecting pymilvus\n",
      "  Downloading pymilvus-2.4.5-py3-none-any.whl.metadata (5.6 kB)\n",
      "Requirement already satisfied: setuptools>69 in /Users/elliotkang/Documents/GitHub/Franklin/backend/.ve/lib/python3.11/site-packages (from pymilvus) (69.2.0)\n",
      "Collecting grpcio<=1.63.0,>=1.49.1 (from pymilvus)\n",
      "  Downloading grpcio-1.63.0-cp311-cp311-macosx_10_9_universal2.whl.metadata (3.2 kB)\n",
      "Requirement already satisfied: protobuf>=3.20.0 in /Users/elliotkang/Documents/GitHub/Franklin/backend/.ve/lib/python3.11/site-packages (from pymilvus) (4.25.4)\n",
      "Collecting environs<=9.5.0 (from pymilvus)\n",
      "  Using cached environs-9.5.0-py2.py3-none-any.whl.metadata (14 kB)\n",
      "Requirement already satisfied: ujson>=2.0.0 in /Users/elliotkang/Documents/GitHub/Franklin/backend/.ve/lib/python3.11/site-packages (from pymilvus) (5.10.0)\n",
      "Requirement already satisfied: pandas>=1.2.4 in /Users/elliotkang/Documents/GitHub/Franklin/backend/.ve/lib/python3.11/site-packages (from pymilvus) (2.2.2)\n",
      "Collecting milvus-lite<2.5.0,>=2.4.0 (from pymilvus)\n",
      "  Downloading milvus_lite-2.4.9-py3-none-macosx_11_0_arm64.whl.metadata (7.7 kB)\n",
      "Requirement already satisfied: marshmallow>=3.0.0 in /Users/elliotkang/Documents/GitHub/Franklin/backend/.ve/lib/python3.11/site-packages (from environs<=9.5.0->pymilvus) (3.21.3)\n",
      "Requirement already satisfied: python-dotenv in /Users/elliotkang/Documents/GitHub/Franklin/backend/.ve/lib/python3.11/site-packages (from environs<=9.5.0->pymilvus) (1.0.1)\n",
      "Requirement already satisfied: tqdm in /Users/elliotkang/Documents/GitHub/Franklin/backend/.ve/lib/python3.11/site-packages (from milvus-lite<2.5.0,>=2.4.0->pymilvus) (4.66.5)\n",
      "Requirement already satisfied: numpy>=1.23.2 in /Users/elliotkang/Documents/GitHub/Franklin/backend/.ve/lib/python3.11/site-packages (from pandas>=1.2.4->pymilvus) (1.26.4)\n",
      "Requirement already satisfied: python-dateutil>=2.8.2 in /Users/elliotkang/Documents/GitHub/Franklin/backend/.ve/lib/python3.11/site-packages (from pandas>=1.2.4->pymilvus) (2.9.0.post0)\n",
      "Requirement already satisfied: pytz>=2020.1 in /Users/elliotkang/Documents/GitHub/Franklin/backend/.ve/lib/python3.11/site-packages (from pandas>=1.2.4->pymilvus) (2024.1)\n",
      "Requirement already satisfied: tzdata>=2022.7 in /Users/elliotkang/Documents/GitHub/Franklin/backend/.ve/lib/python3.11/site-packages (from pandas>=1.2.4->pymilvus) (2024.1)\n",
      "Requirement already satisfied: packaging>=17.0 in /Users/elliotkang/Documents/GitHub/Franklin/backend/.ve/lib/python3.11/site-packages (from marshmallow>=3.0.0->environs<=9.5.0->pymilvus) (23.2)\n",
      "Requirement already satisfied: six>=1.5 in /Users/elliotkang/Documents/GitHub/Franklin/backend/.ve/lib/python3.11/site-packages (from python-dateutil>=2.8.2->pandas>=1.2.4->pymilvus) (1.16.0)\n",
      "Downloading pymilvus-2.4.5-py3-none-any.whl (197 kB)\n",
      "\u001b[2K   \u001b[90m━━━━━━━━━━━━━━━━━━━━━━━━━━━━━━━━━━━━━━━━\u001b[0m \u001b[32m197.3/197.3 kB\u001b[0m \u001b[31m5.0 MB/s\u001b[0m eta \u001b[36m0:00:00\u001b[0m00:01\u001b[0m\n",
      "\u001b[?25hUsing cached environs-9.5.0-py2.py3-none-any.whl (12 kB)\n",
      "Downloading grpcio-1.63.0-cp311-cp311-macosx_10_9_universal2.whl (10.1 MB)\n",
      "\u001b[2K   \u001b[90m━━━━━━━━━━━━━━━━━━━━━━━━━━━━━━━━━━━━━━━━\u001b[0m \u001b[32m10.1/10.1 MB\u001b[0m \u001b[31m22.1 MB/s\u001b[0m eta \u001b[36m0:00:00\u001b[0m \u001b[36m0:00:01\u001b[0m\n",
      "\u001b[?25hDownloading milvus_lite-2.4.9-py3-none-macosx_11_0_arm64.whl (19.9 MB)\n",
      "\u001b[2K   \u001b[90m━━━━━━━━━━━━━━━━━━━━━━━━━━━━━━━━━━━━━━━━\u001b[0m \u001b[32m19.9/19.9 MB\u001b[0m \u001b[31m38.4 MB/s\u001b[0m eta \u001b[36m0:00:00\u001b[0m00:01\u001b[0m00:01\u001b[0m\n",
      "\u001b[?25hInstalling collected packages: milvus-lite, grpcio, environs, pymilvus\n",
      "  Attempting uninstall: grpcio\n",
      "    Found existing installation: grpcio 1.65.4\n",
      "    Uninstalling grpcio-1.65.4:\n",
      "      Successfully uninstalled grpcio-1.65.4\n",
      "Successfully installed environs-9.5.0 grpcio-1.63.0 milvus-lite-2.4.9 pymilvus-2.4.5\n",
      "\n",
      "\u001b[1m[\u001b[0m\u001b[34;49mnotice\u001b[0m\u001b[1;39;49m]\u001b[0m\u001b[39;49m A new release of pip is available: \u001b[0m\u001b[31;49m24.0\u001b[0m\u001b[39;49m -> \u001b[0m\u001b[32;49m24.2\u001b[0m\n",
      "\u001b[1m[\u001b[0m\u001b[34;49mnotice\u001b[0m\u001b[1;39;49m]\u001b[0m\u001b[39;49m To update, run: \u001b[0m\u001b[32;49mpip install --upgrade pip\u001b[0m\n"
     ]
    }
   ],
   "source": [
    "!pip install pymilvus"
   ]
  },
  {
   "cell_type": "markdown",
   "id": "e4e85df2-85aa-412b-bd1e-a7a91fede5a4",
   "metadata": {},
   "source": [
    "### Create Collection Schema"
   ]
  },
  {
   "cell_type": "code",
   "execution_count": 15,
   "id": "3f6bae27-0c8a-4399-9091-bdcce1c3590e",
   "metadata": {},
   "outputs": [
    {
     "name": "stdout",
     "output_type": "stream",
     "text": [
      "Collection 'nvda_demo_collection' exists. Dropping it...\n",
      "Collection nvda_demo_collection created.\n",
      "Added 32 items into nvda_demo_collection.\n"
     ]
    }
   ],
   "source": [
    "# Upload to collection\n",
    "# TODO: Create references to slides in frontend app\n",
    "\n",
    "# Create schema\n",
    "from pymilvus import CollectionSchema, FieldSchema, DataType, Collection, connections, utility\n",
    "\n",
    "# Connect to Zilliz Cloud\n",
    "connections.connect(\n",
    "    alias=\"default\",\n",
    "    uri=zilliz_uri,\n",
    "    token=zilliz_api_key\n",
    ")\n",
    "\n",
    "collection_name = \"nvda_demo_collection\"\n",
    "\n",
    "# Check if the collection exists. If it does, drop it.\n",
    "if utility.has_collection(collection_name):\n",
    "    print(f\"Collection '{collection_name}' exists. Dropping it...\")\n",
    "    # utility.drop_collection(collection_name)\n",
    "    # print(f\"Collection '{collection_name}' has been dropped.\")\n",
    "else:\n",
    "    print(f\"Collection '{collection_name}' does not exist.\")\n",
    "\n",
    "# Schema\n",
    "uuid = FieldSchema(\n",
    "  name=\"uuid\",\n",
    "  dtype=DataType.VARCHAR,\n",
    "  max_length=256,\n",
    "  is_primary=True,\n",
    ")\n",
    "doc_name = FieldSchema(\n",
    "  name=\"doc_name\",\n",
    "  dtype=DataType.VARCHAR,\n",
    "  max_length=256,\n",
    ")\n",
    "page_number = FieldSchema(\n",
    "  name=\"page_number\",\n",
    "  dtype=DataType.INT64,\n",
    "  max_length=32,\n",
    ")\n",
    "text_embedding = FieldSchema(\n",
    "  name=\"text_embedding\",\n",
    "  dtype=DataType.FLOAT_VECTOR,\n",
    "  # Number of dimensions of text-embedding-3-small\n",
    "  dim=1536\n",
    ")\n",
    "content = FieldSchema(\n",
    "  name=\"content\",\n",
    "  dtype=DataType.VARCHAR,\n",
    "  max_length=65535\n",
    ")\n",
    "schema = CollectionSchema(\n",
    "  fields=[uuid, doc_name, page_number, content, text_embedding],\n",
    "  description=\"NVDA PDF demo collection\",\n",
    "  enable_dynamic_field=True\n",
    ")\n",
    "\n",
    "# Create Collection\n",
    "collection = Collection(\n",
    "    name=collection_name,\n",
    "    schema=schema,\n",
    "    using='default',\n",
    "    shards_num=2\n",
    "    )\n",
    "\n",
    "# Convert data to Milvus Collection format\n",
    "result = collection.insert(data)\n",
    "\n",
    "# Create Index\n",
    "index_params = {\n",
    "    \"metric_type\": \"L2\",  # Distance metric\n",
    "    \"index_type\": \"IVF_FLAT\", # Index type \n",
    "    \"params\": {\"nlist\": 1024}  # Index-specific parameters\n",
    "}\n",
    "\n",
    "collection.create_index(\n",
    "    field_name=\"text_embedding\",  # Name of vector field\n",
    "    index_params=index_params\n",
    ")\n",
    "\n",
    "# Finish ingestion\n",
    "collection.flush()\n",
    "print(f\"Collection {collection_name} created.\")\n",
    "print(f\"Added {result.insert_count} items into {collection_name}.\")\n",
    "\n",
    "\n",
    "# Connection clean-up\n",
    "connections.disconnect(\"default\")"
   ]
  },
  {
   "cell_type": "code",
   "execution_count": null,
   "id": "a92c8cd5-23aa-48da-b20b-66e3fd3aee24",
   "metadata": {},
   "outputs": [],
   "source": []
  }
 ],
 "metadata": {
  "kernelspec": {
   "display_name": "Python 3 (ipykernel)",
   "language": "python",
   "name": "python3"
  },
  "language_info": {
   "codemirror_mode": {
    "name": "ipython",
    "version": 3
   },
   "file_extension": ".py",
   "mimetype": "text/x-python",
   "name": "python",
   "nbconvert_exporter": "python",
   "pygments_lexer": "ipython3",
   "version": "3.11.9"
  }
 },
 "nbformat": 4,
 "nbformat_minor": 5
}
