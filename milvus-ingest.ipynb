{
 "cells": [
  {
   "cell_type": "markdown",
   "id": "43bbbec3-6f30-42cd-9740-291d35b96636",
   "metadata": {},
   "source": [
    "# Small to Slide"
   ]
  },
  {
   "cell_type": "markdown",
   "id": "35f41468-79e1-44ff-8e7f-a22cf2e59398",
   "metadata": {},
   "source": [
    "It's very difficult for a LLM to correctly embed a PPT slide based on text alone. Luckily we have multi-modal LLMs!\n",
    "\n",
    "#### Goal\n",
    "Ingest PPT slides using GPT 4o's embedding + Create a scheme to retrieve relevant slides\n",
    "\n",
    "## Outline\n",
    "- Setup (API keys, Milvus connection, data loading)\n",
    "- Pre-processing (Embeddings, Schema creation)\n",
    "- Ingestion\n",
    "- Retrieval\n",
    "- Retrieval Evaluation"
   ]
  },
  {
   "cell_type": "markdown",
   "id": "ee56014c-fbe6-4ef6-a0b5-70d653d5fe95",
   "metadata": {},
   "source": [
    "### Setup"
   ]
  },
  {
   "cell_type": "markdown",
   "id": "0152c9e9",
   "metadata": {},
   "source": [
    "Make sure to set up your `jupyter kernelspec list` or set the environment variables directly in the Jupyter Notebook using the `% env_name env_value` command"
   ]
  },
  {
   "cell_type": "code",
   "execution_count": 24,
   "id": "44da407b-6688-4f21-bb6e-2358cea53ce6",
   "metadata": {},
   "outputs": [],
   "source": [
    "import os\n",
    "import re\n",
    "import asyncio\n",
    "from tqdm import tqdm\n",
    "from typing import Iterator, Tuple\n",
    "from openai import AsyncOpenAI\n",
    "openai_api_key = os.environ.get(\"OPENAI_KEY\")\n",
    "zilliz_uri = str(os.environ.get(\"ZILLIZ_URI\"))\n",
    "zilliz_key = str(os.environ.get(\"ZILLIZ_KEY\"))"
   ]
  },
  {
   "cell_type": "markdown",
   "id": "684629e9-92ef-4665-a634-527e0cea42f4",
   "metadata": {},
   "source": [
    "### Pre-Processing"
   ]
  },
  {
   "cell_type": "code",
   "execution_count": 25,
   "id": "e72c1183-b7cb-4875-9a95-99e423ae2543",
   "metadata": {},
   "outputs": [],
   "source": [
    "# Load text data, put them into a list\n",
    "text_path = './llamaparse.md'\n",
    "def markdown_to_string(file_path: str) -> str:\n",
    "    try:\n",
    "        with open(file_path, 'r') as file:\n",
    "            markdown_string = file.read()\n",
    "        return markdown_string\n",
    "    except FileNotFoundError:\n",
    "        print(f\"File not found: {file_path}\")\n",
    "        return None\n",
    "    except IOError:\n",
    "        print(f\"Error reading file: {file_path}\")\n",
    "        return None\n",
    "\n",
    "markdown_string = markdown_to_string(text_path)\n",
    "regex = r\"<!---\\s*Page\\s*\\d+\\s*--->\"\n",
    "parts = re.split(regex, markdown_string)\n",
    "\n",
    "# Do just 5 for checking whether this works\n",
    "# TODO: Delete or Comment this out if you don't want to embed too many things\n",
    "parts = parts #parts[:5]"
   ]
  },
  {
   "cell_type": "code",
   "execution_count": 26,
   "id": "4ba1b8a8-d81e-433e-a9e5-6534c23def64",
   "metadata": {},
   "outputs": [],
   "source": [
    "# Type alias for readability\n",
    "Embedding = list[float]\n",
    "\n",
    "# Get OpenAI client\n",
    "client = AsyncOpenAI(api_key=openai_api_key)\n",
    "async def get_embedding(input_text: str) -> Embedding:\n",
    "    response = await client.embeddings.create(\n",
    "        input=input_text,\n",
    "        model=\"text-embedding-3-small\"\n",
    "    )\n",
    "    return response.data[0].embedding"
   ]
  },
  {
   "cell_type": "code",
   "execution_count": 27,
   "id": "73ef0300-a61c-474f-8342-1b6362418cee",
   "metadata": {},
   "outputs": [],
   "source": [
    "# Run embedding concurrently.\n",
    "# WARNING: There are ~40 pages = ~40 concurrent calls\n",
    "tasks = [asyncio.create_task(get_embedding(page)) for page in parts]\n",
    "results: list[Embedding] = await asyncio.gather(*tasks)\n",
    "text_embedding_pairs: list[Tuple[str, Embedding]] = list(zip(parts, results))"
   ]
  },
  {
   "cell_type": "markdown",
   "id": "39a7a178-b7cf-4f47-a1b7-a9724a67485f",
   "metadata": {},
   "source": [
    "#### PDF to Images"
   ]
  },
  {
   "cell_type": "code",
   "execution_count": 28,
   "id": "69a1d48a-bdc3-4341-bf4d-82268fbbf65d",
   "metadata": {},
   "outputs": [
    {
     "name": "stdout",
     "output_type": "stream",
     "text": [
      "NVDA-Company-Overview.pdf    climate_youth_magazine.pdf  milvus-ingest.ipynb\r\n",
      "README.md\t\t     ingest.py\t\t\t output_images\r\n",
      "climate_youth_llamaparse.md  llamaparse.md\r\n"
     ]
    }
   ],
   "source": [
    "!ls"
   ]
  },
  {
   "cell_type": "markdown",
   "id": "b75de5cf-e4a1-401b-aadb-9a8d42484ed3",
   "metadata": {},
   "source": [
    "**Warning:**\n",
    "\n",
    "Installing Poppler can be tedious. Make sure to\n",
    "- Install\n",
    "- Add `poppler` to PATH for your machine"
   ]
  },
  {
   "cell_type": "code",
   "execution_count": 29,
   "id": "b4adf0bf-d744-4092-9d72-639d18e68cc2",
   "metadata": {},
   "outputs": [
    {
     "ename": "PDFInfoNotInstalledError",
     "evalue": "Unable to get page count. Is poppler installed and in PATH?",
     "output_type": "error",
     "traceback": [
      "\u001b[0;31m---------------------------------------------------------------------------\u001b[0m",
      "\u001b[0;31mFileNotFoundError\u001b[0m                         Traceback (most recent call last)",
      "File \u001b[0;32m~/anaconda3/lib/python3.10/site-packages/pdf2image/pdf2image.py:581\u001b[0m, in \u001b[0;36mpdfinfo_from_path\u001b[0;34m(pdf_path, userpw, ownerpw, poppler_path, rawdates, timeout, first_page, last_page)\u001b[0m\n\u001b[1;32m    580\u001b[0m     env[\u001b[38;5;124m\"\u001b[39m\u001b[38;5;124mLD_LIBRARY_PATH\u001b[39m\u001b[38;5;124m\"\u001b[39m] \u001b[38;5;241m=\u001b[39m poppler_path \u001b[38;5;241m+\u001b[39m \u001b[38;5;124m\"\u001b[39m\u001b[38;5;124m:\u001b[39m\u001b[38;5;124m\"\u001b[39m \u001b[38;5;241m+\u001b[39m env\u001b[38;5;241m.\u001b[39mget(\u001b[38;5;124m\"\u001b[39m\u001b[38;5;124mLD_LIBRARY_PATH\u001b[39m\u001b[38;5;124m\"\u001b[39m, \u001b[38;5;124m\"\u001b[39m\u001b[38;5;124m\"\u001b[39m)\n\u001b[0;32m--> 581\u001b[0m proc \u001b[38;5;241m=\u001b[39m \u001b[43mPopen\u001b[49m\u001b[43m(\u001b[49m\u001b[43mcommand\u001b[49m\u001b[43m,\u001b[49m\u001b[43m \u001b[49m\u001b[43menv\u001b[49m\u001b[38;5;241;43m=\u001b[39;49m\u001b[43menv\u001b[49m\u001b[43m,\u001b[49m\u001b[43m \u001b[49m\u001b[43mstdout\u001b[49m\u001b[38;5;241;43m=\u001b[39;49m\u001b[43mPIPE\u001b[49m\u001b[43m,\u001b[49m\u001b[43m \u001b[49m\u001b[43mstderr\u001b[49m\u001b[38;5;241;43m=\u001b[39;49m\u001b[43mPIPE\u001b[49m\u001b[43m)\u001b[49m\n\u001b[1;32m    583\u001b[0m \u001b[38;5;28;01mtry\u001b[39;00m:\n",
      "File \u001b[0;32m~/anaconda3/lib/python3.10/subprocess.py:971\u001b[0m, in \u001b[0;36mPopen.__init__\u001b[0;34m(self, args, bufsize, executable, stdin, stdout, stderr, preexec_fn, close_fds, shell, cwd, env, universal_newlines, startupinfo, creationflags, restore_signals, start_new_session, pass_fds, user, group, extra_groups, encoding, errors, text, umask, pipesize)\u001b[0m\n\u001b[1;32m    968\u001b[0m             \u001b[38;5;28mself\u001b[39m\u001b[38;5;241m.\u001b[39mstderr \u001b[38;5;241m=\u001b[39m io\u001b[38;5;241m.\u001b[39mTextIOWrapper(\u001b[38;5;28mself\u001b[39m\u001b[38;5;241m.\u001b[39mstderr,\n\u001b[1;32m    969\u001b[0m                     encoding\u001b[38;5;241m=\u001b[39mencoding, errors\u001b[38;5;241m=\u001b[39merrors)\n\u001b[0;32m--> 971\u001b[0m     \u001b[38;5;28;43mself\u001b[39;49m\u001b[38;5;241;43m.\u001b[39;49m\u001b[43m_execute_child\u001b[49m\u001b[43m(\u001b[49m\u001b[43margs\u001b[49m\u001b[43m,\u001b[49m\u001b[43m \u001b[49m\u001b[43mexecutable\u001b[49m\u001b[43m,\u001b[49m\u001b[43m \u001b[49m\u001b[43mpreexec_fn\u001b[49m\u001b[43m,\u001b[49m\u001b[43m \u001b[49m\u001b[43mclose_fds\u001b[49m\u001b[43m,\u001b[49m\n\u001b[1;32m    972\u001b[0m \u001b[43m                        \u001b[49m\u001b[43mpass_fds\u001b[49m\u001b[43m,\u001b[49m\u001b[43m \u001b[49m\u001b[43mcwd\u001b[49m\u001b[43m,\u001b[49m\u001b[43m \u001b[49m\u001b[43menv\u001b[49m\u001b[43m,\u001b[49m\n\u001b[1;32m    973\u001b[0m \u001b[43m                        \u001b[49m\u001b[43mstartupinfo\u001b[49m\u001b[43m,\u001b[49m\u001b[43m \u001b[49m\u001b[43mcreationflags\u001b[49m\u001b[43m,\u001b[49m\u001b[43m \u001b[49m\u001b[43mshell\u001b[49m\u001b[43m,\u001b[49m\n\u001b[1;32m    974\u001b[0m \u001b[43m                        \u001b[49m\u001b[43mp2cread\u001b[49m\u001b[43m,\u001b[49m\u001b[43m \u001b[49m\u001b[43mp2cwrite\u001b[49m\u001b[43m,\u001b[49m\n\u001b[1;32m    975\u001b[0m \u001b[43m                        \u001b[49m\u001b[43mc2pread\u001b[49m\u001b[43m,\u001b[49m\u001b[43m \u001b[49m\u001b[43mc2pwrite\u001b[49m\u001b[43m,\u001b[49m\n\u001b[1;32m    976\u001b[0m \u001b[43m                        \u001b[49m\u001b[43merrread\u001b[49m\u001b[43m,\u001b[49m\u001b[43m \u001b[49m\u001b[43merrwrite\u001b[49m\u001b[43m,\u001b[49m\n\u001b[1;32m    977\u001b[0m \u001b[43m                        \u001b[49m\u001b[43mrestore_signals\u001b[49m\u001b[43m,\u001b[49m\n\u001b[1;32m    978\u001b[0m \u001b[43m                        \u001b[49m\u001b[43mgid\u001b[49m\u001b[43m,\u001b[49m\u001b[43m \u001b[49m\u001b[43mgids\u001b[49m\u001b[43m,\u001b[49m\u001b[43m \u001b[49m\u001b[43muid\u001b[49m\u001b[43m,\u001b[49m\u001b[43m \u001b[49m\u001b[43mumask\u001b[49m\u001b[43m,\u001b[49m\n\u001b[1;32m    979\u001b[0m \u001b[43m                        \u001b[49m\u001b[43mstart_new_session\u001b[49m\u001b[43m)\u001b[49m\n\u001b[1;32m    980\u001b[0m \u001b[38;5;28;01mexcept\u001b[39;00m:\n\u001b[1;32m    981\u001b[0m     \u001b[38;5;66;03m# Cleanup if the child failed starting.\u001b[39;00m\n",
      "File \u001b[0;32m~/anaconda3/lib/python3.10/subprocess.py:1847\u001b[0m, in \u001b[0;36mPopen._execute_child\u001b[0;34m(self, args, executable, preexec_fn, close_fds, pass_fds, cwd, env, startupinfo, creationflags, shell, p2cread, p2cwrite, c2pread, c2pwrite, errread, errwrite, restore_signals, gid, gids, uid, umask, start_new_session)\u001b[0m\n\u001b[1;32m   1846\u001b[0m         err_msg \u001b[38;5;241m=\u001b[39m os\u001b[38;5;241m.\u001b[39mstrerror(errno_num)\n\u001b[0;32m-> 1847\u001b[0m     \u001b[38;5;28;01mraise\u001b[39;00m child_exception_type(errno_num, err_msg, err_filename)\n\u001b[1;32m   1848\u001b[0m \u001b[38;5;28;01mraise\u001b[39;00m child_exception_type(err_msg)\n",
      "\u001b[0;31mFileNotFoundError\u001b[0m: [Errno 2] No such file or directory: 'pdfinfo'",
      "\nDuring handling of the above exception, another exception occurred:\n",
      "\u001b[0;31mPDFInfoNotInstalledError\u001b[0m                  Traceback (most recent call last)",
      "Cell \u001b[0;32mIn[29], line 17\u001b[0m\n\u001b[1;32m     14\u001b[0m     os\u001b[38;5;241m.\u001b[39mmakedirs(output_folder)\n\u001b[1;32m     16\u001b[0m \u001b[38;5;66;03m# Convert PDF to images\u001b[39;00m\n\u001b[0;32m---> 17\u001b[0m images \u001b[38;5;241m=\u001b[39m \u001b[43mconvert_from_path\u001b[49m\u001b[43m(\u001b[49m\u001b[43mpdf_path\u001b[49m\u001b[43m)\u001b[49m\n\u001b[1;32m     19\u001b[0m \u001b[38;5;66;03m# Save each page as an image\u001b[39;00m\n\u001b[1;32m     20\u001b[0m \u001b[38;5;28;01mfor\u001b[39;00m i, image \u001b[38;5;129;01min\u001b[39;00m tqdm(\u001b[38;5;28menumerate\u001b[39m(images)):\n",
      "File \u001b[0;32m~/anaconda3/lib/python3.10/site-packages/pdf2image/pdf2image.py:127\u001b[0m, in \u001b[0;36mconvert_from_path\u001b[0;34m(pdf_path, dpi, output_folder, first_page, last_page, fmt, jpegopt, thread_count, userpw, ownerpw, use_cropbox, strict, transparent, single_file, output_file, poppler_path, grayscale, size, paths_only, use_pdftocairo, timeout, hide_annotations)\u001b[0m\n\u001b[1;32m    124\u001b[0m \u001b[38;5;28;01mif\u001b[39;00m \u001b[38;5;28misinstance\u001b[39m(poppler_path, PurePath):\n\u001b[1;32m    125\u001b[0m     poppler_path \u001b[38;5;241m=\u001b[39m poppler_path\u001b[38;5;241m.\u001b[39mas_posix()\n\u001b[0;32m--> 127\u001b[0m page_count \u001b[38;5;241m=\u001b[39m \u001b[43mpdfinfo_from_path\u001b[49m\u001b[43m(\u001b[49m\n\u001b[1;32m    128\u001b[0m \u001b[43m    \u001b[49m\u001b[43mpdf_path\u001b[49m\u001b[43m,\u001b[49m\u001b[43m \u001b[49m\u001b[43muserpw\u001b[49m\u001b[43m,\u001b[49m\u001b[43m \u001b[49m\u001b[43mownerpw\u001b[49m\u001b[43m,\u001b[49m\u001b[43m \u001b[49m\u001b[43mpoppler_path\u001b[49m\u001b[38;5;241;43m=\u001b[39;49m\u001b[43mpoppler_path\u001b[49m\n\u001b[1;32m    129\u001b[0m \u001b[43m\u001b[49m\u001b[43m)\u001b[49m[\u001b[38;5;124m\"\u001b[39m\u001b[38;5;124mPages\u001b[39m\u001b[38;5;124m\"\u001b[39m]\n\u001b[1;32m    131\u001b[0m \u001b[38;5;66;03m# We start by getting the output format, the buffer processing function and if we need pdftocairo\u001b[39;00m\n\u001b[1;32m    132\u001b[0m parsed_fmt, final_extension, parse_buffer_func, use_pdfcairo_format \u001b[38;5;241m=\u001b[39m _parse_format(\n\u001b[1;32m    133\u001b[0m     fmt, grayscale\n\u001b[1;32m    134\u001b[0m )\n",
      "File \u001b[0;32m~/anaconda3/lib/python3.10/site-packages/pdf2image/pdf2image.py:607\u001b[0m, in \u001b[0;36mpdfinfo_from_path\u001b[0;34m(pdf_path, userpw, ownerpw, poppler_path, rawdates, timeout, first_page, last_page)\u001b[0m\n\u001b[1;32m    604\u001b[0m     \u001b[38;5;28;01mreturn\u001b[39;00m d\n\u001b[1;32m    606\u001b[0m \u001b[38;5;28;01mexcept\u001b[39;00m \u001b[38;5;167;01mOSError\u001b[39;00m:\n\u001b[0;32m--> 607\u001b[0m     \u001b[38;5;28;01mraise\u001b[39;00m PDFInfoNotInstalledError(\n\u001b[1;32m    608\u001b[0m         \u001b[38;5;124m\"\u001b[39m\u001b[38;5;124mUnable to get page count. Is poppler installed and in PATH?\u001b[39m\u001b[38;5;124m\"\u001b[39m\n\u001b[1;32m    609\u001b[0m     )\n\u001b[1;32m    610\u001b[0m \u001b[38;5;28;01mexcept\u001b[39;00m \u001b[38;5;167;01mValueError\u001b[39;00m:\n\u001b[1;32m    611\u001b[0m     \u001b[38;5;28;01mraise\u001b[39;00m PDFPageCountError(\n\u001b[1;32m    612\u001b[0m         \u001b[38;5;124mf\u001b[39m\u001b[38;5;124m\"\u001b[39m\u001b[38;5;124mUnable to get page count.\u001b[39m\u001b[38;5;130;01m\\n\u001b[39;00m\u001b[38;5;132;01m{\u001b[39;00merr\u001b[38;5;241m.\u001b[39mdecode(\u001b[38;5;124m'\u001b[39m\u001b[38;5;124mutf8\u001b[39m\u001b[38;5;124m'\u001b[39m,\u001b[38;5;250m \u001b[39m\u001b[38;5;124m'\u001b[39m\u001b[38;5;124mignore\u001b[39m\u001b[38;5;124m'\u001b[39m)\u001b[38;5;132;01m}\u001b[39;00m\u001b[38;5;124m\"\u001b[39m\n\u001b[1;32m    613\u001b[0m     )\n",
      "\u001b[0;31mPDFInfoNotInstalledError\u001b[0m: Unable to get page count. Is poppler installed and in PATH?"
     ]
    }
   ],
   "source": [
    "from pdf2image import convert_from_path\n",
    "import os\n",
    "from tqdm import tqdm\n",
    "\n",
    "\n",
    "# Specify the path to your PDF file\n",
    "pdf_path = \"NVDA-Company-Overview.pdf\"\n",
    "\n",
    "# Specify the output folder for images\n",
    "output_folder = \"output_images\"\n",
    "\n",
    "# Create the output folder if it doesn't exist\n",
    "if not os.path.exists(output_folder):\n",
    "    os.makedirs(output_folder)\n",
    "\n",
    "# Convert PDF to images\n",
    "images = convert_from_path(pdf_path)\n",
    "\n",
    "# Save each page as an image\n",
    "for i, image in tqdm(enumerate(images)):\n",
    "    image.save(f\"{output_folder}/page_{i+1}.jpg\", \"JPEG\")"
   ]
  },
  {
   "cell_type": "markdown",
   "id": "c3a60049-438f-47a6-86a2-0d39ee0db430",
   "metadata": {},
   "source": [
    "## Ingestion"
   ]
  },
  {
   "cell_type": "markdown",
   "id": "970a254e-66b2-48d2-b364-fccc3e99e87d",
   "metadata": {},
   "source": [
    "### Image referencing in Collection"
   ]
  },
  {
   "cell_type": "code",
   "execution_count": 30,
   "id": "e9fa55b1",
   "metadata": {},
   "outputs": [
    {
     "name": "stderr",
     "output_type": "stream",
     "text": [
      "43it [00:00, 152584.66it/s]\n"
     ]
    }
   ],
   "source": [
    "import uuid\n",
    "\n",
    "ids = []\n",
    "doc_names = []\n",
    "page_nums = []\n",
    "content = []\n",
    "embeddings = []\n",
    "for idx, i in tqdm(enumerate(text_embedding_pairs)):\n",
    "    doc_string = f\"NVDA demo PDF, page {idx+1}\"\n",
    "    ids.append(f\"{uuid.uuid5(uuid.NAMESPACE_DNS, doc_string)}\")\n",
    "    doc_names.append(\"NVDA demo PDF\")\n",
    "    page_nums.append(idx)\n",
    "    content.append(i[0])\n",
    "    embeddings.append(i[1])\n",
    "data = [ids, doc_names, page_nums, content, embeddings]"
   ]
  },
  {
   "cell_type": "markdown",
   "id": "e4e85df2-85aa-412b-bd1e-a7a91fede5a4",
   "metadata": {},
   "source": [
    "### Create Collection Schema"
   ]
  },
  {
   "cell_type": "code",
   "execution_count": 31,
   "id": "3f6bae27-0c8a-4399-9091-bdcce1c3590e",
   "metadata": {},
   "outputs": [
    {
     "name": "stdout",
     "output_type": "stream",
     "text": [
      "Collection 'nvda_demo_collection' exists. Dropping it...\n",
      "Collection 'nvda_demo_collection' has been dropped.\n",
      "Collection nvda_demo_collection created.\n",
      "Added 43 items into nvda_demo_collection.\n"
     ]
    }
   ],
   "source": [
    "# Upload to collection\n",
    "# TODO: Create references to slides in frontend app\n",
    "\n",
    "# Create schema\n",
    "from pymilvus import CollectionSchema, FieldSchema, DataType, Collection, connections, utility\n",
    "\n",
    "# Connect to Zilliz Cloud\n",
    "connections.connect(\n",
    "    alias=\"default\",\n",
    "    uri=zilliz_uri,\n",
    "    token=zilliz_key\n",
    ")\n",
    "\n",
    "collection_name = \"nvda_demo_collection\"\n",
    "\n",
    "# Check if the collection exists. If it does, drop it.\n",
    "if utility.has_collection(collection_name):\n",
    "    print(f\"Collection '{collection_name}' exists. Dropping it...\")\n",
    "    utility.drop_collection(collection_name)\n",
    "    print(f\"Collection '{collection_name}' has been dropped.\")\n",
    "else:\n",
    "    print(f\"Collection '{collection_name}' does not exist.\")\n",
    "\n",
    "# Schema\n",
    "uuid = FieldSchema(\n",
    "  name=\"uuid\",\n",
    "  dtype=DataType.VARCHAR,\n",
    "  max_length=256,\n",
    "  is_primary=True,\n",
    ")\n",
    "doc_name = FieldSchema(\n",
    "  name=\"doc_name\",\n",
    "  dtype=DataType.VARCHAR,\n",
    "  max_length=256,\n",
    ")\n",
    "page_number = FieldSchema(\n",
    "  name=\"page_number\",\n",
    "  dtype=DataType.INT64,\n",
    "  max_length=32,\n",
    ")\n",
    "text_embedding = FieldSchema(\n",
    "  name=\"text_embedding\",\n",
    "  dtype=DataType.FLOAT_VECTOR,\n",
    "  # Number of dimensions of text-embedding-3-small\n",
    "  dim=1536\n",
    ")\n",
    "content = FieldSchema(\n",
    "  name=\"content\",\n",
    "  dtype=DataType.VARCHAR,\n",
    "  max_length=65535\n",
    ")\n",
    "schema = CollectionSchema(\n",
    "  fields=[uuid, doc_name, page_number, content, text_embedding],\n",
    "  description=\"NVDA PDF demo collection\",\n",
    "  enable_dynamic_field=True\n",
    ")\n",
    "\n",
    "# Create Collection\n",
    "collection = Collection(\n",
    "    name=collection_name,\n",
    "    schema=schema,\n",
    "    using='default',\n",
    "    shards_num=2\n",
    "    )\n",
    "\n",
    "# Convert data to Milvus Collection format\n",
    "result = collection.insert(data)\n",
    "\n",
    "# Create Index\n",
    "index_params = {\n",
    "    \"metric_type\": \"L2\",  # Distance metric\n",
    "    \"index_type\": \"IVF_FLAT\", # Index type \n",
    "    \"params\": {\"nlist\": 1024}  # Index-specific parameters\n",
    "}\n",
    "\n",
    "collection.create_index(\n",
    "    field_name=\"text_embedding\",  # Name of vector field\n",
    "    index_params=index_params\n",
    ")\n",
    "\n",
    "# Finish ingestion\n",
    "collection.flush()\n",
    "print(f\"Collection {collection_name} created.\")\n",
    "print(f\"Added {result.insert_count} items into {collection_name}.\")\n",
    "\n",
    "\n",
    "# Connection clean-up\n",
    "connections.disconnect(\"default\")"
   ]
  },
  {
   "cell_type": "code",
   "execution_count": null,
   "id": "69afc5f7",
   "metadata": {},
   "outputs": [],
   "source": []
  }
 ],
 "metadata": {
  "kernelspec": {
   "display_name": "Python 3 (ipykernel)",
   "language": "python",
   "name": "python3"
  },
  "language_info": {
   "codemirror_mode": {
    "name": "ipython",
    "version": 3
   },
   "file_extension": ".py",
   "mimetype": "text/x-python",
   "name": "python",
   "nbconvert_exporter": "python",
   "pygments_lexer": "ipython3",
   "version": "3.10.9"
  }
 },
 "nbformat": 4,
 "nbformat_minor": 5
}
