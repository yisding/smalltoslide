{
 "cells": [
  {
   "cell_type": "markdown",
   "id": "43bbbec3-6f30-42cd-9740-291d35b96636",
   "metadata": {},
   "source": [
    "# Small to Slide"
   ]
  },
  {
   "cell_type": "markdown",
   "id": "35f41468-79e1-44ff-8e7f-a22cf2e59398",
   "metadata": {},
   "source": [
    "It's very difficult for a LLM to correctly embed a PPT slide based on text alone. Luckily we have multi-modal LLMs!\n",
    "\n",
    "#### Goal\n",
    "Ingest PPT slides using GPT 4o's embedding + Create a scheme to retrieve relevant slides\n",
    "\n",
    "## Outline\n",
    "- Setup (API keys, Milvus connection, data loading)\n",
    "- Pre-processing (Embeddings, Schema creation)\n",
    "- Ingestion\n",
    "- Retrieval\n",
    "- Retrieval Evaluation"
   ]
  },
  {
   "cell_type": "markdown",
   "id": "ee56014c-fbe6-4ef6-a0b5-70d653d5fe95",
   "metadata": {},
   "source": [
    "### Setup"
   ]
  },
  {
   "cell_type": "code",
   "execution_count": 2,
   "id": "44da407b-6688-4f21-bb6e-2358cea53ce6",
   "metadata": {},
   "outputs": [],
   "source": [
    "import os\n",
    "import re\n",
    "import asyncio\n",
    "from typing import Iterator, Tuple\n",
    "from openai import AsyncOpenAI\n",
    "openai_api_key = os.environ.get(\"OPENAI_API_KEY\")\n",
    "zilliz_uri = os.environ.get(\"ZILLIZ_URI\")\n",
    "zilliz_api_key = os.environ.get(\"ZILLIZ_API_KEY\")"
   ]
  },
  {
   "cell_type": "markdown",
   "id": "684629e9-92ef-4665-a634-527e0cea42f4",
   "metadata": {},
   "source": [
    "### Pre-Processing"
   ]
  },
  {
   "cell_type": "code",
   "execution_count": 3,
   "id": "e72c1183-b7cb-4875-9a95-99e423ae2543",
   "metadata": {},
   "outputs": [],
   "source": [
    "# Load text data, put them into a list\n",
    "text_path = './llamaparse.md'\n",
    "def markdown_to_string(file_path: str) -> str:\n",
    "    try:\n",
    "        with open(file_path, 'r') as file:\n",
    "            markdown_string = file.read()\n",
    "        return markdown_string\n",
    "    except FileNotFoundError:\n",
    "        print(f\"File not found: {file_path}\")\n",
    "        return None\n",
    "    except IOError:\n",
    "        print(f\"Error reading file: {file_path}\")\n",
    "        return None\n",
    "\n",
    "markdown_string = markdown_to_string(text_path)\n",
    "regex = r\"<!---\\s*Page\\s*\\d+\\s*--->\"\n",
    "parts = re.split(regex, markdown_string)\n",
    "\n",
    "# Do just 5 for checking whether this works\n",
    "# TODO: Delete or Comment this out if you don't want to embed too many things\n",
    "parts = parts[:5]"
   ]
  },
  {
   "cell_type": "code",
   "execution_count": 4,
   "id": "4ba1b8a8-d81e-433e-a9e5-6534c23def64",
   "metadata": {},
   "outputs": [],
   "source": [
    "# Type alias for readability\n",
    "Embedding = list[float]\n",
    "\n",
    "# Get OpenAI client\n",
    "client = AsyncOpenAI(api_key=openai_api_key)\n",
    "async def get_embedding(input_text: str) -> Embedding:\n",
    "    response = await client.embeddings.create(\n",
    "        input=input_text,\n",
    "        model=\"text-embedding-3-small\"\n",
    "    )\n",
    "    return response.data[0].embedding"
   ]
  },
  {
   "cell_type": "code",
   "execution_count": 5,
   "id": "73ef0300-a61c-474f-8342-1b6362418cee",
   "metadata": {},
   "outputs": [],
   "source": [
    "# Run embedding concurrently.\n",
    "# WARNING: There are ~40 pages = ~40 concurrent calls\n",
    "tasks = [asyncio.create_task(get_embedding(page)) for page in parts]\n",
    "results: list[Embedding] = await asyncio.gather(*tasks)\n",
    "text_embedding_pairs: list[Tuple[str, Embedding]] = list(zip(parts, results))"
   ]
  },
  {
   "cell_type": "markdown",
   "id": "39a7a178-b7cf-4f47-a1b7-a9724a67485f",
   "metadata": {},
   "source": [
    "#### PDF to Images"
   ]
  },
  {
   "cell_type": "code",
   "execution_count": 6,
   "id": "69a1d48a-bdc3-4341-bf4d-82268fbbf65d",
   "metadata": {},
   "outputs": [
    {
     "name": "stdout",
     "output_type": "stream",
     "text": [
      "NVDA-Company-Overview.pdf llamaparse.md             \u001b[1m\u001b[36moutput_images\u001b[m\u001b[m\n",
      "README.md                 milvus-ingest.ipynb       \u001b[1m\u001b[36mve\u001b[m\u001b[m\n"
     ]
    }
   ],
   "source": [
    "!ls"
   ]
  },
  {
   "cell_type": "markdown",
   "id": "b75de5cf-e4a1-401b-aadb-9a8d42484ed3",
   "metadata": {},
   "source": [
    "**Warning:**\n",
    "\n",
    "Installing Poppler can be tedious. Make sure to\n",
    "- Install\n",
    "- Add `poppler` to PATH for your machine"
   ]
  },
  {
   "cell_type": "code",
   "execution_count": 5,
   "id": "b4adf0bf-d744-4092-9d72-639d18e68cc2",
   "metadata": {},
   "outputs": [
    {
     "name": "stderr",
     "output_type": "stream",
     "text": [
      "42it [00:03, 11.68it/s]\n"
     ]
    }
   ],
   "source": [
    "from pdf2image import convert_from_path\n",
    "import os\n",
    "from tqdm import tqdm\n",
    "\n",
    "\n",
    "# Specify the path to your PDF file\n",
    "pdf_path = \"NVDA-Company-Overview.pdf\"\n",
    "\n",
    "# Specify the output folder for images\n",
    "output_folder = \"output_images\"\n",
    "\n",
    "# Create the output folder if it doesn't exist\n",
    "if not os.path.exists(output_folder):\n",
    "    os.makedirs(output_folder)\n",
    "\n",
    "# Convert PDF to images\n",
    "images = convert_from_path(pdf_path)\n",
    "\n",
    "# Save each page as an image\n",
    "for i, image in tqdm(enumerate(images)):\n",
    "    image.save(f\"{output_folder}/page_{i+1}.jpg\", \"JPEG\")"
   ]
  },
  {
   "cell_type": "markdown",
   "id": "174f2804-2347-4012-b392-a77def022e8e",
   "metadata": {},
   "source": [
    "#### Image Embedding"
   ]
  },
  {
   "cell_type": "markdown",
   "id": "412d13f0-be40-46a4-be51-4a932b5b4bfd",
   "metadata": {},
   "source": [
    "We'll be embedding each powerpoint slide into image embeddings."
   ]
  },
  {
   "cell_type": "code",
   "execution_count": null,
   "id": "b7175e16-f86b-4f42-9f71-36180c17a710",
   "metadata": {},
   "outputs": [],
   "source": [
    "# Embed Images\n",
    "\n",
    "\n",
    "# Pydantic schema for Data chunks\n",
    "# TODO: Keep the model here for reference\n",
    "\n",
    "\n",
    "\n",
    "# Package this up into a list of Pydantic objects\n"
   ]
  },
  {
   "cell_type": "markdown",
   "id": "c3a60049-438f-47a6-86a2-0d39ee0db430",
   "metadata": {},
   "source": [
    "## Ingestion"
   ]
  },
  {
   "cell_type": "markdown",
   "id": "970a254e-66b2-48d2-b364-fccc3e99e87d",
   "metadata": {},
   "source": [
    "### Image referencing in Collection"
   ]
  },
  {
   "cell_type": "markdown",
   "id": "e4e85df2-85aa-412b-bd1e-a7a91fede5a4",
   "metadata": {},
   "source": [
    "### Create Collection Schema"
   ]
  },
  {
   "cell_type": "code",
   "execution_count": null,
   "id": "3f6bae27-0c8a-4399-9091-bdcce1c3590e",
   "metadata": {},
   "outputs": [],
   "source": [
    "# Create Collection\n",
    "\n",
    "# Create references to images in Zilliz collection metadata\n",
    "\n",
    "\n",
    "# Create Zilliz collection schema\n",
    "\n",
    "\n",
    "# Connect to Milvus\n",
    "\n",
    "\n",
    "# Upload to collection\n",
    "\n",
    "\n",
    "# TODO: Create references to slides in frontend app"
   ]
  },
  {
   "cell_type": "code",
   "execution_count": null,
   "id": "a92c8cd5-23aa-48da-b20b-66e3fd3aee24",
   "metadata": {},
   "outputs": [],
   "source": []
  }
 ],
 "metadata": {
  "kernelspec": {
   "display_name": "Python 3 (ipykernel)",
   "language": "python",
   "name": "python3"
  },
  "language_info": {
   "codemirror_mode": {
    "name": "ipython",
    "version": 3
   },
   "file_extension": ".py",
   "mimetype": "text/x-python",
   "name": "python",
   "nbconvert_exporter": "python",
   "pygments_lexer": "ipython3",
   "version": "3.11.9"
  }
 },
 "nbformat": 4,
 "nbformat_minor": 5
}
