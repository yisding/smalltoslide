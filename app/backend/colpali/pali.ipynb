{
 "cells": [
  {
   "cell_type": "code",
   "execution_count": null,
   "metadata": {},
   "outputs": [],
   "source": [
    "%pip install torch\n",
    "%pip install git+https://github.com/illuin-tech/colpali\n",
    "%pip install pdf2image pypdf"
   ]
  },
  {
   "cell_type": "code",
   "execution_count": null,
   "metadata": {},
   "outputs": [],
   "source": [
    "import os\n",
    "\n",
    "import torch\n",
    "from colpali_engine.models.paligemma_colbert_architecture import ColPali\n",
    "from colpali_engine.trainer.retrieval_evaluator import CustomEvaluator\n",
    "from colpali_engine.utils.colpali_processing_utils import (\n",
    "    process_images,\n",
    "    process_queries,\n",
    ")\n",
    "from pdf2image import convert_from_path\n",
    "from PIL import Image\n",
    "from torch.utils.data import DataLoader\n",
    "from tqdm import tqdm\n",
    "from transformers import AutoProcessor\n"
   ]
  },
  {
   "cell_type": "code",
   "execution_count": null,
   "metadata": {},
   "outputs": [],
   "source": [
    "device = \"mps\"\n",
    "\n",
    "# Load model\n",
    "model_name = \"vidore/colpali\"\n",
    "token = os.environ.get(\"HF_TOKEN\")\n",
    "model = ColPali.from_pretrained(\n",
    "    \"google/paligemma-3b-mix-448\", torch_dtype=torch.float32, device_map=\"mps\", token=token).eval()\n",
    "\n",
    "model.load_adapter(model_name)\n",
    "processor = AutoProcessor.from_pretrained(model_name, token = token)"
   ]
  },
  {
   "cell_type": "code",
   "execution_count": null,
   "metadata": {},
   "outputs": [],
   "source": [
    "\n",
    "\n",
    "files = [\"climate_youth_magazine.pdf\"]\n",
    "\n",
    "images = []\n",
    "for f in files:\n",
    "    images.extend(convert_from_path(f))\n",
    "\n",
    "# run inference - docs\n",
    "dataloader = DataLoader(\n",
    "    images,\n",
    "    batch_size=4,\n",
    "    shuffle=False,\n",
    "    collate_fn=lambda x: process_images(processor, x),\n",
    ")\n",
    "\n",
    "print(model.device)\n",
    "\n"
   ]
  },
  {
   "cell_type": "code",
   "execution_count": null,
   "metadata": {},
   "outputs": [],
   "source": [
    "for batch_doc in tqdm(dataloader):\n",
    "    with torch.no_grad():\n",
    "        batch_doc = {k: v.to(device) for k, v in batch_doc.items()}\n",
    "        embeddings_doc = model(**batch_doc)\n",
    "    ds.extend(list(torch.unbind(embeddings_doc.to(\"cpu\"))))\n",
    "print(f\"Uploaded and converted {len(images)} pages\")\n"
   ]
  }
 ],
 "metadata": {
  "kernelspec": {
   "display_name": "arhelp-u4mEmTe2-py3.12",
   "language": "python",
   "name": "python3"
  },
  "language_info": {
   "codemirror_mode": {
    "name": "ipython",
    "version": 3
   },
   "file_extension": ".py",
   "mimetype": "text/x-python",
   "name": "python",
   "nbconvert_exporter": "python",
   "pygments_lexer": "ipython3",
   "version": "3.12.4"
  }
 },
 "nbformat": 4,
 "nbformat_minor": 2
}
